{
    "cells": [
        {
            "cell_type": "markdown",
            "metadata": {},
            "source": [
                "# Explore here\n",
                "\n"
            ]
        },
        {
            "cell_type": "markdown",
            "metadata": {},
            "source": [
                "Step 0: Import libraries and data"
            ]
        },
        {
            "cell_type": "code",
            "execution_count": 40,
            "metadata": {},
            "outputs": [],
            "source": [
                "#Import libraries\n",
                "import pandas as pd\n",
                "import numpy as np\n",
                "import matplotlib.pyplot as plt \n",
                "import plotly.express as px\n",
                "import statsmodels.api as sm\n",
                "import pickle\n",
                "from statsmodels.api import OLS\n",
                "from sklearn.linear_model import LinearRegression\n",
                "from sklearn.model_selection import train_test_split\n",
                "from sklearn import metrics\n",
                "from sklearn.metrics import mean_squared_error, r2_score\n",
                "from sklearn.preprocessing import PolynomialFeatures"
            ]
        },
        {
            "cell_type": "code",
            "execution_count": 3,
            "metadata": {},
            "outputs": [],
            "source": [
                "#Load data\n",
                "url = \"https://raw.githubusercontent.com/4GeeksAcademy/linear-regression-project-tutorial/main/medical_insurance_cost.csv\"\n",
                "\n",
                "df_raw = pd.read_csv(url)"
            ]
        },
        {
            "cell_type": "markdown",
            "metadata": {},
            "source": [
                "Step 1: Basic exploration"
            ]
        },
        {
            "cell_type": "code",
            "execution_count": 4,
            "metadata": {},
            "outputs": [
                {
                    "name": "stdout",
                    "output_type": "stream",
                    "text": [
                        "<class 'pandas.core.frame.DataFrame'>\n",
                        "RangeIndex: 1338 entries, 0 to 1337\n",
                        "Data columns (total 7 columns):\n",
                        " #   Column    Non-Null Count  Dtype  \n",
                        "---  ------    --------------  -----  \n",
                        " 0   age       1338 non-null   int64  \n",
                        " 1   sex       1338 non-null   object \n",
                        " 2   bmi       1338 non-null   float64\n",
                        " 3   children  1338 non-null   int64  \n",
                        " 4   smoker    1338 non-null   object \n",
                        " 5   region    1338 non-null   object \n",
                        " 6   charges   1338 non-null   float64\n",
                        "dtypes: float64(2), int64(2), object(3)\n",
                        "memory usage: 73.3+ KB\n"
                    ]
                }
            ],
            "source": [
                "df_raw.info()\n",
                "#7 variables, 1338 obs, no nulls\n",
                "#Data type 'object': probably categorical"
            ]
        },
        {
            "cell_type": "code",
            "execution_count": 5,
            "metadata": {},
            "outputs": [
                {
                    "data": {
                        "text/html": [
                            "<div>\n",
                            "<style scoped>\n",
                            "    .dataframe tbody tr th:only-of-type {\n",
                            "        vertical-align: middle;\n",
                            "    }\n",
                            "\n",
                            "    .dataframe tbody tr th {\n",
                            "        vertical-align: top;\n",
                            "    }\n",
                            "\n",
                            "    .dataframe thead th {\n",
                            "        text-align: right;\n",
                            "    }\n",
                            "</style>\n",
                            "<table border=\"1\" class=\"dataframe\">\n",
                            "  <thead>\n",
                            "    <tr style=\"text-align: right;\">\n",
                            "      <th></th>\n",
                            "      <th>age</th>\n",
                            "      <th>sex</th>\n",
                            "      <th>bmi</th>\n",
                            "      <th>children</th>\n",
                            "      <th>smoker</th>\n",
                            "      <th>region</th>\n",
                            "      <th>charges</th>\n",
                            "    </tr>\n",
                            "  </thead>\n",
                            "  <tbody>\n",
                            "    <tr>\n",
                            "      <th>597</th>\n",
                            "      <td>34</td>\n",
                            "      <td>female</td>\n",
                            "      <td>33.250</td>\n",
                            "      <td>1</td>\n",
                            "      <td>no</td>\n",
                            "      <td>northeast</td>\n",
                            "      <td>5594.84550</td>\n",
                            "    </tr>\n",
                            "    <tr>\n",
                            "      <th>770</th>\n",
                            "      <td>61</td>\n",
                            "      <td>male</td>\n",
                            "      <td>36.100</td>\n",
                            "      <td>3</td>\n",
                            "      <td>no</td>\n",
                            "      <td>southwest</td>\n",
                            "      <td>27941.28758</td>\n",
                            "    </tr>\n",
                            "    <tr>\n",
                            "      <th>93</th>\n",
                            "      <td>35</td>\n",
                            "      <td>male</td>\n",
                            "      <td>34.770</td>\n",
                            "      <td>2</td>\n",
                            "      <td>no</td>\n",
                            "      <td>northwest</td>\n",
                            "      <td>5729.00530</td>\n",
                            "    </tr>\n",
                            "    <tr>\n",
                            "      <th>11</th>\n",
                            "      <td>62</td>\n",
                            "      <td>female</td>\n",
                            "      <td>26.290</td>\n",
                            "      <td>0</td>\n",
                            "      <td>yes</td>\n",
                            "      <td>southeast</td>\n",
                            "      <td>27808.72510</td>\n",
                            "    </tr>\n",
                            "    <tr>\n",
                            "      <th>145</th>\n",
                            "      <td>29</td>\n",
                            "      <td>female</td>\n",
                            "      <td>38.830</td>\n",
                            "      <td>3</td>\n",
                            "      <td>no</td>\n",
                            "      <td>southeast</td>\n",
                            "      <td>5138.25670</td>\n",
                            "    </tr>\n",
                            "    <tr>\n",
                            "      <th>1022</th>\n",
                            "      <td>47</td>\n",
                            "      <td>male</td>\n",
                            "      <td>36.080</td>\n",
                            "      <td>1</td>\n",
                            "      <td>yes</td>\n",
                            "      <td>southeast</td>\n",
                            "      <td>42211.13820</td>\n",
                            "    </tr>\n",
                            "    <tr>\n",
                            "      <th>620</th>\n",
                            "      <td>30</td>\n",
                            "      <td>male</td>\n",
                            "      <td>31.400</td>\n",
                            "      <td>1</td>\n",
                            "      <td>no</td>\n",
                            "      <td>southwest</td>\n",
                            "      <td>3659.34600</td>\n",
                            "    </tr>\n",
                            "    <tr>\n",
                            "      <th>934</th>\n",
                            "      <td>32</td>\n",
                            "      <td>male</td>\n",
                            "      <td>37.180</td>\n",
                            "      <td>2</td>\n",
                            "      <td>no</td>\n",
                            "      <td>southeast</td>\n",
                            "      <td>4673.39220</td>\n",
                            "    </tr>\n",
                            "    <tr>\n",
                            "      <th>1118</th>\n",
                            "      <td>33</td>\n",
                            "      <td>male</td>\n",
                            "      <td>35.750</td>\n",
                            "      <td>1</td>\n",
                            "      <td>yes</td>\n",
                            "      <td>southeast</td>\n",
                            "      <td>38282.74950</td>\n",
                            "    </tr>\n",
                            "    <tr>\n",
                            "      <th>1314</th>\n",
                            "      <td>30</td>\n",
                            "      <td>female</td>\n",
                            "      <td>23.655</td>\n",
                            "      <td>3</td>\n",
                            "      <td>yes</td>\n",
                            "      <td>northwest</td>\n",
                            "      <td>18765.87545</td>\n",
                            "    </tr>\n",
                            "  </tbody>\n",
                            "</table>\n",
                            "</div>"
                        ],
                        "text/plain": [
                            "      age     sex     bmi  children smoker     region      charges\n",
                            "597    34  female  33.250         1     no  northeast   5594.84550\n",
                            "770    61    male  36.100         3     no  southwest  27941.28758\n",
                            "93     35    male  34.770         2     no  northwest   5729.00530\n",
                            "11     62  female  26.290         0    yes  southeast  27808.72510\n",
                            "145    29  female  38.830         3     no  southeast   5138.25670\n",
                            "1022   47    male  36.080         1    yes  southeast  42211.13820\n",
                            "620    30    male  31.400         1     no  southwest   3659.34600\n",
                            "934    32    male  37.180         2     no  southeast   4673.39220\n",
                            "1118   33    male  35.750         1    yes  southeast  38282.74950\n",
                            "1314   30  female  23.655         3    yes  northwest  18765.87545"
                        ]
                    },
                    "execution_count": 5,
                    "metadata": {},
                    "output_type": "execute_result"
                }
            ],
            "source": [
                "df_raw.sample(10)\n",
                "#Sex, smoker and region are categorical\n",
                "#Dataset heterogéneo (distintos datatypes)"
            ]
        },
        {
            "cell_type": "markdown",
            "metadata": {},
            "source": [
                "Step 2: Variable transformation"
            ]
        },
        {
            "cell_type": "code",
            "execution_count": 6,
            "metadata": {},
            "outputs": [
                {
                    "data": {
                        "text/plain": [
                            "male      676\n",
                            "female    662\n",
                            "Name: sex, dtype: int64"
                        ]
                    },
                    "execution_count": 6,
                    "metadata": {},
                    "output_type": "execute_result"
                }
            ],
            "source": [
                "df_raw.sex.value_counts()"
            ]
        },
        {
            "cell_type": "code",
            "execution_count": 7,
            "metadata": {},
            "outputs": [
                {
                    "data": {
                        "text/plain": [
                            "no     1064\n",
                            "yes     274\n",
                            "Name: smoker, dtype: int64"
                        ]
                    },
                    "execution_count": 7,
                    "metadata": {},
                    "output_type": "execute_result"
                }
            ],
            "source": [
                "df_raw.smoker.value_counts()"
            ]
        },
        {
            "cell_type": "code",
            "execution_count": 8,
            "metadata": {},
            "outputs": [
                {
                    "data": {
                        "text/plain": [
                            "southeast    364\n",
                            "southwest    325\n",
                            "northwest    325\n",
                            "northeast    324\n",
                            "Name: region, dtype: int64"
                        ]
                    },
                    "execution_count": 8,
                    "metadata": {},
                    "output_type": "execute_result"
                }
            ],
            "source": [
                "df_raw.region.value_counts()"
            ]
        },
        {
            "cell_type": "code",
            "execution_count": 9,
            "metadata": {},
            "outputs": [],
            "source": [
                "#Encoding (codificamos valor de variables categóricas)\n",
                "#Rule: columnas de la clase x = categorías - 1 (Ej.: región tiene 4 categorías, necesito 3 columnas para evitar colinealidad)\n",
                "#Could also be done with get dummies\n",
                "\n",
                "df_raw['sex_aux'] = df_raw['sex'].apply(lambda x:1 if x == 'female' else 0)\n",
                "df_raw['smoker_aux'] = df_raw['smoker'].apply(lambda x:1 if x == 'yes' else 0)\n",
                "df_raw['region_sw'] = df_raw['region'].apply(lambda x:1 if x == 'southwest' else 0)\n",
                "#southeast es la de referencia, por eso no creamos columna para southeast\n",
                "df_raw['region_nw'] = df_raw['region'].apply(lambda x:1 if x == 'northwest' else 0)\n",
                "df_raw['region_ne'] = df_raw['region'].apply(lambda x:1 if x == 'northeast' else 0)\n",
                "\n",
                "df_raw = df_raw.drop(['sex', 'smoker', 'region'], axis = 1)\n",
                "df_interim = df_raw.copy()"
            ]
        },
        {
            "cell_type": "code",
            "execution_count": 10,
            "metadata": {},
            "outputs": [
                {
                    "data": {
                        "text/html": [
                            "<div>\n",
                            "<style scoped>\n",
                            "    .dataframe tbody tr th:only-of-type {\n",
                            "        vertical-align: middle;\n",
                            "    }\n",
                            "\n",
                            "    .dataframe tbody tr th {\n",
                            "        vertical-align: top;\n",
                            "    }\n",
                            "\n",
                            "    .dataframe thead th {\n",
                            "        text-align: right;\n",
                            "    }\n",
                            "</style>\n",
                            "<table border=\"1\" class=\"dataframe\">\n",
                            "  <thead>\n",
                            "    <tr style=\"text-align: right;\">\n",
                            "      <th></th>\n",
                            "      <th>age</th>\n",
                            "      <th>bmi</th>\n",
                            "      <th>children</th>\n",
                            "      <th>charges</th>\n",
                            "      <th>sex_aux</th>\n",
                            "      <th>smoker_aux</th>\n",
                            "      <th>region_sw</th>\n",
                            "      <th>region_nw</th>\n",
                            "      <th>region_ne</th>\n",
                            "    </tr>\n",
                            "  </thead>\n",
                            "  <tbody>\n",
                            "    <tr>\n",
                            "      <th>1136</th>\n",
                            "      <td>44</td>\n",
                            "      <td>25.000</td>\n",
                            "      <td>1</td>\n",
                            "      <td>7623.51800</td>\n",
                            "      <td>1</td>\n",
                            "      <td>0</td>\n",
                            "      <td>1</td>\n",
                            "      <td>0</td>\n",
                            "      <td>0</td>\n",
                            "    </tr>\n",
                            "    <tr>\n",
                            "      <th>194</th>\n",
                            "      <td>18</td>\n",
                            "      <td>34.430</td>\n",
                            "      <td>0</td>\n",
                            "      <td>1137.46970</td>\n",
                            "      <td>0</td>\n",
                            "      <td>0</td>\n",
                            "      <td>0</td>\n",
                            "      <td>0</td>\n",
                            "      <td>0</td>\n",
                            "    </tr>\n",
                            "    <tr>\n",
                            "      <th>342</th>\n",
                            "      <td>60</td>\n",
                            "      <td>27.550</td>\n",
                            "      <td>0</td>\n",
                            "      <td>13217.09450</td>\n",
                            "      <td>1</td>\n",
                            "      <td>0</td>\n",
                            "      <td>0</td>\n",
                            "      <td>0</td>\n",
                            "      <td>1</td>\n",
                            "    </tr>\n",
                            "    <tr>\n",
                            "      <th>492</th>\n",
                            "      <td>18</td>\n",
                            "      <td>25.080</td>\n",
                            "      <td>0</td>\n",
                            "      <td>2196.47320</td>\n",
                            "      <td>1</td>\n",
                            "      <td>0</td>\n",
                            "      <td>0</td>\n",
                            "      <td>0</td>\n",
                            "      <td>1</td>\n",
                            "    </tr>\n",
                            "    <tr>\n",
                            "      <th>651</th>\n",
                            "      <td>53</td>\n",
                            "      <td>39.600</td>\n",
                            "      <td>1</td>\n",
                            "      <td>10579.71100</td>\n",
                            "      <td>1</td>\n",
                            "      <td>0</td>\n",
                            "      <td>0</td>\n",
                            "      <td>0</td>\n",
                            "      <td>0</td>\n",
                            "    </tr>\n",
                            "    <tr>\n",
                            "      <th>507</th>\n",
                            "      <td>21</td>\n",
                            "      <td>23.750</td>\n",
                            "      <td>2</td>\n",
                            "      <td>3077.09550</td>\n",
                            "      <td>0</td>\n",
                            "      <td>0</td>\n",
                            "      <td>0</td>\n",
                            "      <td>1</td>\n",
                            "      <td>0</td>\n",
                            "    </tr>\n",
                            "    <tr>\n",
                            "      <th>224</th>\n",
                            "      <td>42</td>\n",
                            "      <td>24.640</td>\n",
                            "      <td>0</td>\n",
                            "      <td>19515.54160</td>\n",
                            "      <td>0</td>\n",
                            "      <td>1</td>\n",
                            "      <td>0</td>\n",
                            "      <td>0</td>\n",
                            "      <td>0</td>\n",
                            "    </tr>\n",
                            "    <tr>\n",
                            "      <th>573</th>\n",
                            "      <td>62</td>\n",
                            "      <td>36.860</td>\n",
                            "      <td>1</td>\n",
                            "      <td>31620.00106</td>\n",
                            "      <td>1</td>\n",
                            "      <td>0</td>\n",
                            "      <td>0</td>\n",
                            "      <td>0</td>\n",
                            "      <td>1</td>\n",
                            "    </tr>\n",
                            "    <tr>\n",
                            "      <th>41</th>\n",
                            "      <td>31</td>\n",
                            "      <td>36.630</td>\n",
                            "      <td>2</td>\n",
                            "      <td>4949.75870</td>\n",
                            "      <td>1</td>\n",
                            "      <td>0</td>\n",
                            "      <td>0</td>\n",
                            "      <td>0</td>\n",
                            "      <td>0</td>\n",
                            "    </tr>\n",
                            "    <tr>\n",
                            "      <th>745</th>\n",
                            "      <td>50</td>\n",
                            "      <td>30.115</td>\n",
                            "      <td>1</td>\n",
                            "      <td>9910.35985</td>\n",
                            "      <td>1</td>\n",
                            "      <td>0</td>\n",
                            "      <td>0</td>\n",
                            "      <td>1</td>\n",
                            "      <td>0</td>\n",
                            "    </tr>\n",
                            "  </tbody>\n",
                            "</table>\n",
                            "</div>"
                        ],
                        "text/plain": [
                            "      age     bmi  children      charges  sex_aux  smoker_aux  region_sw  \\\n",
                            "1136   44  25.000         1   7623.51800        1           0          1   \n",
                            "194    18  34.430         0   1137.46970        0           0          0   \n",
                            "342    60  27.550         0  13217.09450        1           0          0   \n",
                            "492    18  25.080         0   2196.47320        1           0          0   \n",
                            "651    53  39.600         1  10579.71100        1           0          0   \n",
                            "507    21  23.750         2   3077.09550        0           0          0   \n",
                            "224    42  24.640         0  19515.54160        0           1          0   \n",
                            "573    62  36.860         1  31620.00106        1           0          0   \n",
                            "41     31  36.630         2   4949.75870        1           0          0   \n",
                            "745    50  30.115         1   9910.35985        1           0          0   \n",
                            "\n",
                            "      region_nw  region_ne  \n",
                            "1136          0          0  \n",
                            "194           0          0  \n",
                            "342           0          1  \n",
                            "492           0          1  \n",
                            "651           0          0  \n",
                            "507           1          0  \n",
                            "224           0          0  \n",
                            "573           0          1  \n",
                            "41            0          0  \n",
                            "745           1          0  "
                        ]
                    },
                    "execution_count": 10,
                    "metadata": {},
                    "output_type": "execute_result"
                }
            ],
            "source": [
                "df_interim.sample(10)"
            ]
        },
        {
            "cell_type": "markdown",
            "metadata": {},
            "source": [
                "Step 3: EDA"
            ]
        },
        {
            "cell_type": "markdown",
            "metadata": {},
            "source": [
                "* Step 3.1: Select train and test data"
            ]
        },
        {
            "cell_type": "code",
            "execution_count": 11,
            "metadata": {},
            "outputs": [],
            "source": [
                "X = df_interim[['age', 'bmi', 'children', 'sex_aux', 'smoker_aux', 'region_sw', 'region_nw', 'region_ne']] #IV\n",
                "y = df_interim['charges'] #DV\n",
                "\n",
                "X_train, X_test, y_train, y_test = train_test_split(X, y, test_size = 0.25, random_state = 15)"
            ]
        },
        {
            "cell_type": "markdown",
            "metadata": {},
            "source": [
                "* Step 3.2: Data descriptive stats"
            ]
        },
        {
            "cell_type": "code",
            "execution_count": 12,
            "metadata": {},
            "outputs": [
                {
                    "data": {
                        "text/html": [
                            "<div>\n",
                            "<style scoped>\n",
                            "    .dataframe tbody tr th:only-of-type {\n",
                            "        vertical-align: middle;\n",
                            "    }\n",
                            "\n",
                            "    .dataframe tbody tr th {\n",
                            "        vertical-align: top;\n",
                            "    }\n",
                            "\n",
                            "    .dataframe thead th {\n",
                            "        text-align: right;\n",
                            "    }\n",
                            "</style>\n",
                            "<table border=\"1\" class=\"dataframe\">\n",
                            "  <thead>\n",
                            "    <tr style=\"text-align: right;\">\n",
                            "      <th></th>\n",
                            "      <th>age</th>\n",
                            "      <th>bmi</th>\n",
                            "      <th>children</th>\n",
                            "      <th>sex_aux</th>\n",
                            "      <th>smoker_aux</th>\n",
                            "      <th>region_sw</th>\n",
                            "      <th>region_nw</th>\n",
                            "      <th>region_ne</th>\n",
                            "    </tr>\n",
                            "  </thead>\n",
                            "  <tbody>\n",
                            "    <tr>\n",
                            "      <th>count</th>\n",
                            "      <td>1003.000000</td>\n",
                            "      <td>1003.000000</td>\n",
                            "      <td>1003.000000</td>\n",
                            "      <td>1003.000000</td>\n",
                            "      <td>1003.000000</td>\n",
                            "      <td>1003.000000</td>\n",
                            "      <td>1003.000000</td>\n",
                            "      <td>1003.000000</td>\n",
                            "    </tr>\n",
                            "    <tr>\n",
                            "      <th>mean</th>\n",
                            "      <td>39.430708</td>\n",
                            "      <td>30.729467</td>\n",
                            "      <td>1.091725</td>\n",
                            "      <td>0.494516</td>\n",
                            "      <td>0.199402</td>\n",
                            "      <td>0.256231</td>\n",
                            "      <td>0.235294</td>\n",
                            "      <td>0.246261</td>\n",
                            "    </tr>\n",
                            "    <tr>\n",
                            "      <th>std</th>\n",
                            "      <td>14.111544</td>\n",
                            "      <td>6.135503</td>\n",
                            "      <td>1.219257</td>\n",
                            "      <td>0.500219</td>\n",
                            "      <td>0.399750</td>\n",
                            "      <td>0.436769</td>\n",
                            "      <td>0.424394</td>\n",
                            "      <td>0.431047</td>\n",
                            "    </tr>\n",
                            "    <tr>\n",
                            "      <th>min</th>\n",
                            "      <td>18.000000</td>\n",
                            "      <td>15.960000</td>\n",
                            "      <td>0.000000</td>\n",
                            "      <td>0.000000</td>\n",
                            "      <td>0.000000</td>\n",
                            "      <td>0.000000</td>\n",
                            "      <td>0.000000</td>\n",
                            "      <td>0.000000</td>\n",
                            "    </tr>\n",
                            "    <tr>\n",
                            "      <th>25%</th>\n",
                            "      <td>27.000000</td>\n",
                            "      <td>26.220000</td>\n",
                            "      <td>0.000000</td>\n",
                            "      <td>0.000000</td>\n",
                            "      <td>0.000000</td>\n",
                            "      <td>0.000000</td>\n",
                            "      <td>0.000000</td>\n",
                            "      <td>0.000000</td>\n",
                            "    </tr>\n",
                            "    <tr>\n",
                            "      <th>50%</th>\n",
                            "      <td>40.000000</td>\n",
                            "      <td>30.400000</td>\n",
                            "      <td>1.000000</td>\n",
                            "      <td>0.000000</td>\n",
                            "      <td>0.000000</td>\n",
                            "      <td>0.000000</td>\n",
                            "      <td>0.000000</td>\n",
                            "      <td>0.000000</td>\n",
                            "    </tr>\n",
                            "    <tr>\n",
                            "      <th>75%</th>\n",
                            "      <td>52.000000</td>\n",
                            "      <td>34.800000</td>\n",
                            "      <td>2.000000</td>\n",
                            "      <td>1.000000</td>\n",
                            "      <td>0.000000</td>\n",
                            "      <td>1.000000</td>\n",
                            "      <td>0.000000</td>\n",
                            "      <td>0.000000</td>\n",
                            "    </tr>\n",
                            "    <tr>\n",
                            "      <th>max</th>\n",
                            "      <td>64.000000</td>\n",
                            "      <td>53.130000</td>\n",
                            "      <td>5.000000</td>\n",
                            "      <td>1.000000</td>\n",
                            "      <td>1.000000</td>\n",
                            "      <td>1.000000</td>\n",
                            "      <td>1.000000</td>\n",
                            "      <td>1.000000</td>\n",
                            "    </tr>\n",
                            "  </tbody>\n",
                            "</table>\n",
                            "</div>"
                        ],
                        "text/plain": [
                            "               age          bmi     children      sex_aux   smoker_aux  \\\n",
                            "count  1003.000000  1003.000000  1003.000000  1003.000000  1003.000000   \n",
                            "mean     39.430708    30.729467     1.091725     0.494516     0.199402   \n",
                            "std      14.111544     6.135503     1.219257     0.500219     0.399750   \n",
                            "min      18.000000    15.960000     0.000000     0.000000     0.000000   \n",
                            "25%      27.000000    26.220000     0.000000     0.000000     0.000000   \n",
                            "50%      40.000000    30.400000     1.000000     0.000000     0.000000   \n",
                            "75%      52.000000    34.800000     2.000000     1.000000     0.000000   \n",
                            "max      64.000000    53.130000     5.000000     1.000000     1.000000   \n",
                            "\n",
                            "         region_sw    region_nw    region_ne  \n",
                            "count  1003.000000  1003.000000  1003.000000  \n",
                            "mean      0.256231     0.235294     0.246261  \n",
                            "std       0.436769     0.424394     0.431047  \n",
                            "min       0.000000     0.000000     0.000000  \n",
                            "25%       0.000000     0.000000     0.000000  \n",
                            "50%       0.000000     0.000000     0.000000  \n",
                            "75%       1.000000     0.000000     0.000000  \n",
                            "max       1.000000     1.000000     1.000000  "
                        ]
                    },
                    "execution_count": 12,
                    "metadata": {},
                    "output_type": "execute_result"
                }
            ],
            "source": [
                "X_train.describe()"
            ]
        },
        {
            "cell_type": "markdown",
            "metadata": {},
            "source": [
                "* Step 3.3: Univariate analysis"
            ]
        },
        {
            "cell_type": "code",
            "execution_count": 13,
            "metadata": {},
            "outputs": [
                {
                    "data": {
                        "image/png": "[encoded data removed]",
                        "text/plain": [
                            "<Figure size 864x576 with 9 Axes>"
                        ]
                    },
                    "metadata": {
                        "needs_background": "light"
                    },
                    "output_type": "display_data"
                }
            ],
            "source": [
                "#Histogram\n",
                "X_train.hist(figsize=(12,8))\n",
                "plt.show()\n",
                "\n",
                "#BMI parece normal\n",
                "#Age parece estar balanceada aunque tiene un pico en 20\n",
                "#Children la mayoría no tiene"
            ]
        },
        {
            "cell_type": "markdown",
            "metadata": {},
            "source": [
                "* Step 3.4: Bivariate analysis (One var against the other)"
            ]
        },
        {
            "cell_type": "code",
            "execution_count": 14,
            "metadata": {},
            "outputs": [
                {
                    "data": {
                        "image/png": "[encoded data removed]",
                        "text/plain": [
                            "<Figure size 432x288 with 1 Axes>"
                        ]
                    },
                    "metadata": {
                        "needs_background": "light"
                    },
                    "output_type": "display_data"
                }
            ],
            "source": [
                "#Scatter plot\n",
                "plt.scatter(x = X_train['age'], y = y_train)\n",
                "plt.show()\n",
                "\n",
                "#No se ve una relación lineal pero podríamos pensar que hay 3 clases \n",
                "#porque el costo del seguro puede variar según edad"
            ]
        },
        {
            "cell_type": "code",
            "execution_count": 15,
            "metadata": {},
            "outputs": [
                {
                    "data": {
                        "image/png": "[encoded data removed]",
                        "text/plain": [
                            "<Figure size 432x288 with 1 Axes>"
                        ]
                    },
                    "metadata": {
                        "needs_background": "light"
                    },
                    "output_type": "display_data"
                }
            ],
            "source": [
                "#Scatter plot\n",
                "plt.scatter(x = X_train['bmi'], y = y_train)\n",
                "plt.show()\n",
                "#Podemos ver tres estratas"
            ]
        },
        {
            "cell_type": "code",
            "execution_count": 16,
            "metadata": {},
            "outputs": [
                {
                    "data": {
                        "image/png": "[encoded data removed]",
                        "text/plain": [
                            "<Figure size 432x288 with 1 Axes>"
                        ]
                    },
                    "metadata": {
                        "needs_background": "light"
                    },
                    "output_type": "display_data"
                }
            ],
            "source": [
                "#Scatter plot\n",
                "plt.scatter(x = X_train['children'], y = y_train)\n",
                "plt.show()"
            ]
        },
        {
            "cell_type": "markdown",
            "metadata": {},
            "source": [
                "* Step 3.5: Ver correlaciones"
            ]
        },
        {
            "cell_type": "code",
            "execution_count": 17,
            "metadata": {},
            "outputs": [
                {
                    "data": {
                        "text/html": [
                            "<div>\n",
                            "<style scoped>\n",
                            "    .dataframe tbody tr th:only-of-type {\n",
                            "        vertical-align: middle;\n",
                            "    }\n",
                            "\n",
                            "    .dataframe tbody tr th {\n",
                            "        vertical-align: top;\n",
                            "    }\n",
                            "\n",
                            "    .dataframe thead th {\n",
                            "        text-align: right;\n",
                            "    }\n",
                            "</style>\n",
                            "<table border=\"1\" class=\"dataframe\">\n",
                            "  <thead>\n",
                            "    <tr style=\"text-align: right;\">\n",
                            "      <th></th>\n",
                            "      <th>age</th>\n",
                            "      <th>bmi</th>\n",
                            "      <th>children</th>\n",
                            "      <th>sex_aux</th>\n",
                            "      <th>smoker_aux</th>\n",
                            "      <th>region_sw</th>\n",
                            "      <th>region_nw</th>\n",
                            "      <th>region_ne</th>\n",
                            "    </tr>\n",
                            "  </thead>\n",
                            "  <tbody>\n",
                            "    <tr>\n",
                            "      <th>age</th>\n",
                            "      <td>1.000000</td>\n",
                            "      <td>0.107326</td>\n",
                            "      <td>0.037435</td>\n",
                            "      <td>0.036953</td>\n",
                            "      <td>-0.045139</td>\n",
                            "      <td>0.016242</td>\n",
                            "      <td>0.005725</td>\n",
                            "      <td>0.010930</td>\n",
                            "    </tr>\n",
                            "    <tr>\n",
                            "      <th>bmi</th>\n",
                            "      <td>0.107326</td>\n",
                            "      <td>1.000000</td>\n",
                            "      <td>0.010865</td>\n",
                            "      <td>-0.055698</td>\n",
                            "      <td>0.009927</td>\n",
                            "      <td>-0.000027</td>\n",
                            "      <td>-0.118244</td>\n",
                            "      <td>-0.148080</td>\n",
                            "    </tr>\n",
                            "    <tr>\n",
                            "      <th>children</th>\n",
                            "      <td>0.037435</td>\n",
                            "      <td>0.010865</td>\n",
                            "      <td>1.000000</td>\n",
                            "      <td>-0.008993</td>\n",
                            "      <td>0.027960</td>\n",
                            "      <td>0.021414</td>\n",
                            "      <td>0.021897</td>\n",
                            "      <td>-0.018336</td>\n",
                            "    </tr>\n",
                            "    <tr>\n",
                            "      <th>sex_aux</th>\n",
                            "      <td>0.036953</td>\n",
                            "      <td>-0.055698</td>\n",
                            "      <td>-0.008993</td>\n",
                            "      <td>1.000000</td>\n",
                            "      <td>-0.114309</td>\n",
                            "      <td>0.013289</td>\n",
                            "      <td>0.010785</td>\n",
                            "      <td>0.017841</td>\n",
                            "    </tr>\n",
                            "    <tr>\n",
                            "      <th>smoker_aux</th>\n",
                            "      <td>-0.045139</td>\n",
                            "      <td>0.009927</td>\n",
                            "      <td>0.027960</td>\n",
                            "      <td>-0.114309</td>\n",
                            "      <td>1.000000</td>\n",
                            "      <td>-0.047136</td>\n",
                            "      <td>-0.047407</td>\n",
                            "      <td>-0.007253</td>\n",
                            "    </tr>\n",
                            "    <tr>\n",
                            "      <th>region_sw</th>\n",
                            "      <td>0.016242</td>\n",
                            "      <td>-0.000027</td>\n",
                            "      <td>0.021414</td>\n",
                            "      <td>0.013289</td>\n",
                            "      <td>-0.047136</td>\n",
                            "      <td>1.000000</td>\n",
                            "      <td>-0.325578</td>\n",
                            "      <td>-0.335494</td>\n",
                            "    </tr>\n",
                            "    <tr>\n",
                            "      <th>region_nw</th>\n",
                            "      <td>0.005725</td>\n",
                            "      <td>-0.118244</td>\n",
                            "      <td>0.021897</td>\n",
                            "      <td>0.010785</td>\n",
                            "      <td>-0.047407</td>\n",
                            "      <td>-0.325578</td>\n",
                            "      <td>1.000000</td>\n",
                            "      <td>-0.317063</td>\n",
                            "    </tr>\n",
                            "    <tr>\n",
                            "      <th>region_ne</th>\n",
                            "      <td>0.010930</td>\n",
                            "      <td>-0.148080</td>\n",
                            "      <td>-0.018336</td>\n",
                            "      <td>0.017841</td>\n",
                            "      <td>-0.007253</td>\n",
                            "      <td>-0.335494</td>\n",
                            "      <td>-0.317063</td>\n",
                            "      <td>1.000000</td>\n",
                            "    </tr>\n",
                            "  </tbody>\n",
                            "</table>\n",
                            "</div>"
                        ],
                        "text/plain": [
                            "                 age       bmi  children   sex_aux  smoker_aux  region_sw  \\\n",
                            "age         1.000000  0.107326  0.037435  0.036953   -0.045139   0.016242   \n",
                            "bmi         0.107326  1.000000  0.010865 -0.055698    0.009927  -0.000027   \n",
                            "children    0.037435  0.010865  1.000000 -0.008993    0.027960   0.021414   \n",
                            "sex_aux     0.036953 -0.055698 -0.008993  1.000000   -0.114309   0.013289   \n",
                            "smoker_aux -0.045139  0.009927  0.027960 -0.114309    1.000000  -0.047136   \n",
                            "region_sw   0.016242 -0.000027  0.021414  0.013289   -0.047136   1.000000   \n",
                            "region_nw   0.005725 -0.118244  0.021897  0.010785   -0.047407  -0.325578   \n",
                            "region_ne   0.010930 -0.148080 -0.018336  0.017841   -0.007253  -0.335494   \n",
                            "\n",
                            "            region_nw  region_ne  \n",
                            "age          0.005725   0.010930  \n",
                            "bmi         -0.118244  -0.148080  \n",
                            "children     0.021897  -0.018336  \n",
                            "sex_aux      0.010785   0.017841  \n",
                            "smoker_aux  -0.047407  -0.007253  \n",
                            "region_sw   -0.325578  -0.335494  \n",
                            "region_nw    1.000000  -0.317063  \n",
                            "region_ne   -0.317063   1.000000  "
                        ]
                    },
                    "execution_count": 17,
                    "metadata": {},
                    "output_type": "execute_result"
                }
            ],
            "source": [
                "X_train.corr()\n",
                "#No hay correlación (es casi 0, ninguna es mayor que 0.8) entre niños y edad, niños con bmi"
            ]
        },
        {
            "cell_type": "code",
            "execution_count": 18,
            "metadata": {},
            "outputs": [
                {
                    "data": {
                        "text/html": [
                            "<style type=\"text/css\">\n",
                            "#T_9c931_row0_col0, #T_9c931_row1_col1, #T_9c931_row2_col2, #T_9c931_row3_col3, #T_9c931_row4_col4, #T_9c931_row5_col5, #T_9c931_row6_col6, #T_9c931_row7_col7 {\n",
                            "  background-color: #08306b;\n",
                            "  color: #f1f1f1;\n",
                            "}\n",
                            "#T_9c931_row0_col1 {\n",
                            "  background-color: #ccdff1;\n",
                            "  color: #000000;\n",
                            "}\n",
                            "#T_9c931_row0_col2 {\n",
                            "  background-color: #ecf4fb;\n",
                            "  color: #000000;\n",
                            "}\n",
                            "#T_9c931_row0_col3 {\n",
                            "  background-color: #dceaf6;\n",
                            "  color: #000000;\n",
                            "}\n",
                            "#T_9c931_row0_col4, #T_9c931_row5_col0, #T_9c931_row5_col4, #T_9c931_row6_col4 {\n",
                            "  background-color: #ebf3fb;\n",
                            "  color: #000000;\n",
                            "}\n",
                            "#T_9c931_row0_col5, #T_9c931_row2_col6, #T_9c931_row3_col7 {\n",
                            "  background-color: #c2d9ee;\n",
                            "  color: #000000;\n",
                            "}\n",
                            "#T_9c931_row0_col6 {\n",
                            "  background-color: #c7dbef;\n",
                            "  color: #000000;\n",
                            "}\n",
                            "#T_9c931_row0_col7, #T_9c931_row3_col5 {\n",
                            "  background-color: #c3daee;\n",
                            "  color: #000000;\n",
                            "}\n",
                            "#T_9c931_row1_col0 {\n",
                            "  background-color: #dae8f6;\n",
                            "  color: #000000;\n",
                            "}\n",
                            "#T_9c931_row1_col2 {\n",
                            "  background-color: #f2f7fd;\n",
                            "  color: #000000;\n",
                            "}\n",
                            "#T_9c931_row1_col3, #T_9c931_row7_col0 {\n",
                            "  background-color: #edf4fc;\n",
                            "  color: #000000;\n",
                            "}\n",
                            "#T_9c931_row1_col4, #T_9c931_row6_col3 {\n",
                            "  background-color: #e1edf8;\n",
                            "  color: #000000;\n",
                            "}\n",
                            "#T_9c931_row1_col5, #T_9c931_row3_col6 {\n",
                            "  background-color: #c6dbef;\n",
                            "  color: #000000;\n",
                            "}\n",
                            "#T_9c931_row1_col6 {\n",
                            "  background-color: #d8e7f5;\n",
                            "  color: #000000;\n",
                            "}\n",
                            "#T_9c931_row1_col7, #T_9c931_row2_col1, #T_9c931_row4_col1 {\n",
                            "  background-color: #dce9f6;\n",
                            "  color: #000000;\n",
                            "}\n",
                            "#T_9c931_row2_col0, #T_9c931_row3_col0, #T_9c931_row3_col1 {\n",
                            "  background-color: #e7f1fa;\n",
                            "  color: #000000;\n",
                            "}\n",
                            "#T_9c931_row2_col3, #T_9c931_row7_col4 {\n",
                            "  background-color: #e4eff9;\n",
                            "  color: #000000;\n",
                            "}\n",
                            "#T_9c931_row2_col4 {\n",
                            "  background-color: #deebf7;\n",
                            "  color: #000000;\n",
                            "}\n",
                            "#T_9c931_row2_col5 {\n",
                            "  background-color: #c1d9ed;\n",
                            "  color: #000000;\n",
                            "}\n",
                            "#T_9c931_row2_col7 {\n",
                            "  background-color: #c9ddf0;\n",
                            "  color: #000000;\n",
                            "}\n",
                            "#T_9c931_row3_col2 {\n",
                            "  background-color: #f5fafe;\n",
                            "  color: #000000;\n",
                            "}\n",
                            "#T_9c931_row3_col4, #T_9c931_row4_col0, #T_9c931_row4_col3, #T_9c931_row5_col6, #T_9c931_row5_col7, #T_9c931_row7_col1, #T_9c931_row7_col2, #T_9c931_row7_col5 {\n",
                            "  background-color: #f7fbff;\n",
                            "  color: #000000;\n",
                            "}\n",
                            "#T_9c931_row4_col2, #T_9c931_row6_col0 {\n",
                            "  background-color: #eef5fc;\n",
                            "  color: #000000;\n",
                            "}\n",
                            "#T_9c931_row4_col5 {\n",
                            "  background-color: #cddff1;\n",
                            "  color: #000000;\n",
                            "}\n",
                            "#T_9c931_row4_col6 {\n",
                            "  background-color: #cee0f2;\n",
                            "  color: #000000;\n",
                            "}\n",
                            "#T_9c931_row4_col7 {\n",
                            "  background-color: #c7dcef;\n",
                            "  color: #000000;\n",
                            "}\n",
                            "#T_9c931_row5_col1 {\n",
                            "  background-color: #ddeaf7;\n",
                            "  color: #000000;\n",
                            "}\n",
                            "#T_9c931_row5_col2 {\n",
                            "  background-color: #f0f6fd;\n",
                            "  color: #000000;\n",
                            "}\n",
                            "#T_9c931_row5_col3 {\n",
                            "  background-color: #e0ecf8;\n",
                            "  color: #000000;\n",
                            "}\n",
                            "#T_9c931_row6_col1 {\n",
                            "  background-color: #f2f8fd;\n",
                            "  color: #000000;\n",
                            "}\n",
                            "#T_9c931_row6_col2 {\n",
                            "  background-color: #eff6fc;\n",
                            "  color: #000000;\n",
                            "}\n",
                            "#T_9c931_row6_col5, #T_9c931_row7_col6 {\n",
                            "  background-color: #f6faff;\n",
                            "  color: #000000;\n",
                            "}\n",
                            "#T_9c931_row6_col7 {\n",
                            "  background-color: #f5f9fe;\n",
                            "  color: #000000;\n",
                            "}\n",
                            "#T_9c931_row7_col3 {\n",
                            "  background-color: #dfecf7;\n",
                            "  color: #000000;\n",
                            "}\n",
                            "</style>\n",
                            "<table id=\"T_9c931\">\n",
                            "  <thead>\n",
                            "    <tr>\n",
                            "      <th class=\"blank level0\" >&nbsp;</th>\n",
                            "      <th id=\"T_9c931_level0_col0\" class=\"col_heading level0 col0\" >age</th>\n",
                            "      <th id=\"T_9c931_level0_col1\" class=\"col_heading level0 col1\" >bmi</th>\n",
                            "      <th id=\"T_9c931_level0_col2\" class=\"col_heading level0 col2\" >children</th>\n",
                            "      <th id=\"T_9c931_level0_col3\" class=\"col_heading level0 col3\" >sex_aux</th>\n",
                            "      <th id=\"T_9c931_level0_col4\" class=\"col_heading level0 col4\" >smoker_aux</th>\n",
                            "      <th id=\"T_9c931_level0_col5\" class=\"col_heading level0 col5\" >region_sw</th>\n",
                            "      <th id=\"T_9c931_level0_col6\" class=\"col_heading level0 col6\" >region_nw</th>\n",
                            "      <th id=\"T_9c931_level0_col7\" class=\"col_heading level0 col7\" >region_ne</th>\n",
                            "    </tr>\n",
                            "  </thead>\n",
                            "  <tbody>\n",
                            "    <tr>\n",
                            "      <th id=\"T_9c931_level0_row0\" class=\"row_heading level0 row0\" >age</th>\n",
                            "      <td id=\"T_9c931_row0_col0\" class=\"data row0 col0\" >1.000000</td>\n",
                            "      <td id=\"T_9c931_row0_col1\" class=\"data row0 col1\" >0.107326</td>\n",
                            "      <td id=\"T_9c931_row0_col2\" class=\"data row0 col2\" >0.037435</td>\n",
                            "      <td id=\"T_9c931_row0_col3\" class=\"data row0 col3\" >0.036953</td>\n",
                            "      <td id=\"T_9c931_row0_col4\" class=\"data row0 col4\" >-0.045139</td>\n",
                            "      <td id=\"T_9c931_row0_col5\" class=\"data row0 col5\" >0.016242</td>\n",
                            "      <td id=\"T_9c931_row0_col6\" class=\"data row0 col6\" >0.005725</td>\n",
                            "      <td id=\"T_9c931_row0_col7\" class=\"data row0 col7\" >0.010930</td>\n",
                            "    </tr>\n",
                            "    <tr>\n",
                            "      <th id=\"T_9c931_level0_row1\" class=\"row_heading level0 row1\" >bmi</th>\n",
                            "      <td id=\"T_9c931_row1_col0\" class=\"data row1 col0\" >0.107326</td>\n",
                            "      <td id=\"T_9c931_row1_col1\" class=\"data row1 col1\" >1.000000</td>\n",
                            "      <td id=\"T_9c931_row1_col2\" class=\"data row1 col2\" >0.010865</td>\n",
                            "      <td id=\"T_9c931_row1_col3\" class=\"data row1 col3\" >-0.055698</td>\n",
                            "      <td id=\"T_9c931_row1_col4\" class=\"data row1 col4\" >0.009927</td>\n",
                            "      <td id=\"T_9c931_row1_col5\" class=\"data row1 col5\" >-0.000027</td>\n",
                            "      <td id=\"T_9c931_row1_col6\" class=\"data row1 col6\" >-0.118244</td>\n",
                            "      <td id=\"T_9c931_row1_col7\" class=\"data row1 col7\" >-0.148080</td>\n",
                            "    </tr>\n",
                            "    <tr>\n",
                            "      <th id=\"T_9c931_level0_row2\" class=\"row_heading level0 row2\" >children</th>\n",
                            "      <td id=\"T_9c931_row2_col0\" class=\"data row2 col0\" >0.037435</td>\n",
                            "      <td id=\"T_9c931_row2_col1\" class=\"data row2 col1\" >0.010865</td>\n",
                            "      <td id=\"T_9c931_row2_col2\" class=\"data row2 col2\" >1.000000</td>\n",
                            "      <td id=\"T_9c931_row2_col3\" class=\"data row2 col3\" >-0.008993</td>\n",
                            "      <td id=\"T_9c931_row2_col4\" class=\"data row2 col4\" >0.027960</td>\n",
                            "      <td id=\"T_9c931_row2_col5\" class=\"data row2 col5\" >0.021414</td>\n",
                            "      <td id=\"T_9c931_row2_col6\" class=\"data row2 col6\" >0.021897</td>\n",
                            "      <td id=\"T_9c931_row2_col7\" class=\"data row2 col7\" >-0.018336</td>\n",
                            "    </tr>\n",
                            "    <tr>\n",
                            "      <th id=\"T_9c931_level0_row3\" class=\"row_heading level0 row3\" >sex_aux</th>\n",
                            "      <td id=\"T_9c931_row3_col0\" class=\"data row3 col0\" >0.036953</td>\n",
                            "      <td id=\"T_9c931_row3_col1\" class=\"data row3 col1\" >-0.055698</td>\n",
                            "      <td id=\"T_9c931_row3_col2\" class=\"data row3 col2\" >-0.008993</td>\n",
                            "      <td id=\"T_9c931_row3_col3\" class=\"data row3 col3\" >1.000000</td>\n",
                            "      <td id=\"T_9c931_row3_col4\" class=\"data row3 col4\" >-0.114309</td>\n",
                            "      <td id=\"T_9c931_row3_col5\" class=\"data row3 col5\" >0.013289</td>\n",
                            "      <td id=\"T_9c931_row3_col6\" class=\"data row3 col6\" >0.010785</td>\n",
                            "      <td id=\"T_9c931_row3_col7\" class=\"data row3 col7\" >0.017841</td>\n",
                            "    </tr>\n",
                            "    <tr>\n",
                            "      <th id=\"T_9c931_level0_row4\" class=\"row_heading level0 row4\" >smoker_aux</th>\n",
                            "      <td id=\"T_9c931_row4_col0\" class=\"data row4 col0\" >-0.045139</td>\n",
                            "      <td id=\"T_9c931_row4_col1\" class=\"data row4 col1\" >0.009927</td>\n",
                            "      <td id=\"T_9c931_row4_col2\" class=\"data row4 col2\" >0.027960</td>\n",
                            "      <td id=\"T_9c931_row4_col3\" class=\"data row4 col3\" >-0.114309</td>\n",
                            "      <td id=\"T_9c931_row4_col4\" class=\"data row4 col4\" >1.000000</td>\n",
                            "      <td id=\"T_9c931_row4_col5\" class=\"data row4 col5\" >-0.047136</td>\n",
                            "      <td id=\"T_9c931_row4_col6\" class=\"data row4 col6\" >-0.047407</td>\n",
                            "      <td id=\"T_9c931_row4_col7\" class=\"data row4 col7\" >-0.007253</td>\n",
                            "    </tr>\n",
                            "    <tr>\n",
                            "      <th id=\"T_9c931_level0_row5\" class=\"row_heading level0 row5\" >region_sw</th>\n",
                            "      <td id=\"T_9c931_row5_col0\" class=\"data row5 col0\" >0.016242</td>\n",
                            "      <td id=\"T_9c931_row5_col1\" class=\"data row5 col1\" >-0.000027</td>\n",
                            "      <td id=\"T_9c931_row5_col2\" class=\"data row5 col2\" >0.021414</td>\n",
                            "      <td id=\"T_9c931_row5_col3\" class=\"data row5 col3\" >0.013289</td>\n",
                            "      <td id=\"T_9c931_row5_col4\" class=\"data row5 col4\" >-0.047136</td>\n",
                            "      <td id=\"T_9c931_row5_col5\" class=\"data row5 col5\" >1.000000</td>\n",
                            "      <td id=\"T_9c931_row5_col6\" class=\"data row5 col6\" >-0.325578</td>\n",
                            "      <td id=\"T_9c931_row5_col7\" class=\"data row5 col7\" >-0.335494</td>\n",
                            "    </tr>\n",
                            "    <tr>\n",
                            "      <th id=\"T_9c931_level0_row6\" class=\"row_heading level0 row6\" >region_nw</th>\n",
                            "      <td id=\"T_9c931_row6_col0\" class=\"data row6 col0\" >0.005725</td>\n",
                            "      <td id=\"T_9c931_row6_col1\" class=\"data row6 col1\" >-0.118244</td>\n",
                            "      <td id=\"T_9c931_row6_col2\" class=\"data row6 col2\" >0.021897</td>\n",
                            "      <td id=\"T_9c931_row6_col3\" class=\"data row6 col3\" >0.010785</td>\n",
                            "      <td id=\"T_9c931_row6_col4\" class=\"data row6 col4\" >-0.047407</td>\n",
                            "      <td id=\"T_9c931_row6_col5\" class=\"data row6 col5\" >-0.325578</td>\n",
                            "      <td id=\"T_9c931_row6_col6\" class=\"data row6 col6\" >1.000000</td>\n",
                            "      <td id=\"T_9c931_row6_col7\" class=\"data row6 col7\" >-0.317063</td>\n",
                            "    </tr>\n",
                            "    <tr>\n",
                            "      <th id=\"T_9c931_level0_row7\" class=\"row_heading level0 row7\" >region_ne</th>\n",
                            "      <td id=\"T_9c931_row7_col0\" class=\"data row7 col0\" >0.010930</td>\n",
                            "      <td id=\"T_9c931_row7_col1\" class=\"data row7 col1\" >-0.148080</td>\n",
                            "      <td id=\"T_9c931_row7_col2\" class=\"data row7 col2\" >-0.018336</td>\n",
                            "      <td id=\"T_9c931_row7_col3\" class=\"data row7 col3\" >0.017841</td>\n",
                            "      <td id=\"T_9c931_row7_col4\" class=\"data row7 col4\" >-0.007253</td>\n",
                            "      <td id=\"T_9c931_row7_col5\" class=\"data row7 col5\" >-0.335494</td>\n",
                            "      <td id=\"T_9c931_row7_col6\" class=\"data row7 col6\" >-0.317063</td>\n",
                            "      <td id=\"T_9c931_row7_col7\" class=\"data row7 col7\" >1.000000</td>\n",
                            "    </tr>\n",
                            "  </tbody>\n",
                            "</table>\n"
                        ],
                        "text/plain": [
                            "<pandas.io.formats.style.Styler at 0x7f4d2abb9fa0>"
                        ]
                    },
                    "execution_count": 18,
                    "metadata": {},
                    "output_type": "execute_result"
                }
            ],
            "source": [
                "X_train.corr().style.background_gradient(cmap = 'Blues')\n",
                "#Same but looks prettier"
            ]
        },
        {
            "cell_type": "markdown",
            "metadata": {},
            "source": [
                "* Step 4: Fit model"
            ]
        },
        {
            "cell_type": "markdown",
            "metadata": {},
            "source": [
                "Reminder: \n",
                "<br> La variable dependiente es *charges*\n",
                "<br> Las variables independientes son *age, bmi, children, sex, smoker* y *region*\n"
            ]
        },
        {
            "cell_type": "markdown",
            "metadata": {},
            "source": [
                "4.1 Regresión lineal con constante"
            ]
        },
        {
            "cell_type": "code",
            "execution_count": 19,
            "metadata": {},
            "outputs": [
                {
                    "name": "stdout",
                    "output_type": "stream",
                    "text": [
                        "Intercept:  -13188.887965032352\n",
                        "Variables:  Index(['age', 'bmi', 'children', 'sex_aux', 'smoker_aux', 'region_sw',\n",
                        "       'region_nw', 'region_ne'],\n",
                        "      dtype='object')\n",
                        "Coeficientes:  [  259.28377294   334.33013348   560.38480047   216.92164981\n",
                        " 24043.57115706   169.84707402   948.64699482  1159.01410243]\n"
                    ]
                }
            ],
            "source": [
                "model = LinearRegression() #Initialize\n",
                "model.fit(X_train, y_train) #Fit\n",
                "\n",
                "print( \"Intercept: \", model.intercept_ )\n",
                "print(\"Variables: \", X_train.columns)\n",
                "print( \"Coeficientes: \", model.coef_ )"
            ]
        },
        {
            "cell_type": "code",
            "execution_count": 20,
            "metadata": {},
            "outputs": [
                {
                    "data": {
                        "text/html": [
                            "<table class=\"simpletable\">\n",
                            "<caption>OLS Regression Results</caption>\n",
                            "<tr>\n",
                            "  <th>Dep. Variable:</th>         <td>charges</td>     <th>  R-squared:         </th> <td>   0.739</td> \n",
                            "</tr>\n",
                            "<tr>\n",
                            "  <th>Model:</th>                   <td>OLS</td>       <th>  Adj. R-squared:    </th> <td>   0.737</td> \n",
                            "</tr>\n",
                            "<tr>\n",
                            "  <th>Method:</th>             <td>Least Squares</td>  <th>  F-statistic:       </th> <td>   351.2</td> \n",
                            "</tr>\n",
                            "<tr>\n",
                            "  <th>Date:</th>             <td>Thu, 07 Jul 2022</td> <th>  Prob (F-statistic):</th> <td>1.85e-283</td>\n",
                            "</tr>\n",
                            "<tr>\n",
                            "  <th>Time:</th>                 <td>21:19:27</td>     <th>  Log-Likelihood:    </th> <td> -10183.</td> \n",
                            "</tr>\n",
                            "<tr>\n",
                            "  <th>No. Observations:</th>      <td>  1003</td>      <th>  AIC:               </th> <td>2.038e+04</td>\n",
                            "</tr>\n",
                            "<tr>\n",
                            "  <th>Df Residuals:</th>          <td>   994</td>      <th>  BIC:               </th> <td>2.043e+04</td>\n",
                            "</tr>\n",
                            "<tr>\n",
                            "  <th>Df Model:</th>              <td>     8</td>      <th>                     </th>     <td> </td>    \n",
                            "</tr>\n",
                            "<tr>\n",
                            "  <th>Covariance Type:</th>      <td>nonrobust</td>    <th>                     </th>     <td> </td>    \n",
                            "</tr>\n",
                            "</table>\n",
                            "<table class=\"simpletable\">\n",
                            "<tr>\n",
                            "       <td></td>         <th>coef</th>     <th>std err</th>      <th>t</th>      <th>P>|t|</th>  <th>[0.025</th>    <th>0.975]</th>  \n",
                            "</tr>\n",
                            "<tr>\n",
                            "  <th>const</th>      <td>-1.319e+04</td> <td> 1288.395</td> <td>  -10.237</td> <td> 0.000</td> <td>-1.57e+04</td> <td>-1.07e+04</td>\n",
                            "</tr>\n",
                            "<tr>\n",
                            "  <th>age</th>        <td>  259.2838</td> <td>   14.094</td> <td>   18.396</td> <td> 0.000</td> <td>  231.626</td> <td>  286.942</td>\n",
                            "</tr>\n",
                            "<tr>\n",
                            "  <th>bmi</th>        <td>  334.3301</td> <td>   33.696</td> <td>    9.922</td> <td> 0.000</td> <td>  268.206</td> <td>  400.454</td>\n",
                            "</tr>\n",
                            "<tr>\n",
                            "  <th>children</th>   <td>  560.3848</td> <td>  161.831</td> <td>    3.463</td> <td> 0.001</td> <td>  242.816</td> <td>  877.954</td>\n",
                            "</tr>\n",
                            "<tr>\n",
                            "  <th>sex_aux</th>    <td>  216.9216</td> <td>  397.204</td> <td>    0.546</td> <td> 0.585</td> <td> -562.532</td> <td>  996.376</td>\n",
                            "</tr>\n",
                            "<tr>\n",
                            "  <th>smoker_aux</th> <td> 2.404e+04</td> <td>  499.031</td> <td>   48.181</td> <td> 0.000</td> <td> 2.31e+04</td> <td>  2.5e+04</td>\n",
                            "</tr>\n",
                            "<tr>\n",
                            "  <th>region_sw</th>  <td>  169.8471</td> <td>  557.092</td> <td>    0.305</td> <td> 0.761</td> <td> -923.364</td> <td> 1263.058</td>\n",
                            "</tr>\n",
                            "<tr>\n",
                            "  <th>region_nw</th>  <td>  948.6470</td> <td>  577.717</td> <td>    1.642</td> <td> 0.101</td> <td> -185.037</td> <td> 2082.331</td>\n",
                            "</tr>\n",
                            "<tr>\n",
                            "  <th>region_ne</th>  <td> 1159.0141</td> <td>  572.395</td> <td>    2.025</td> <td> 0.043</td> <td>   35.773</td> <td> 2282.255</td>\n",
                            "</tr>\n",
                            "</table>\n",
                            "<table class=\"simpletable\">\n",
                            "<tr>\n",
                            "  <th>Omnibus:</th>       <td>231.741</td> <th>  Durbin-Watson:     </th> <td>   2.155</td> \n",
                            "</tr>\n",
                            "<tr>\n",
                            "  <th>Prob(Omnibus):</th> <td> 0.000</td>  <th>  Jarque-Bera (JB):  </th> <td> 545.491</td> \n",
                            "</tr>\n",
                            "<tr>\n",
                            "  <th>Skew:</th>          <td> 1.239</td>  <th>  Prob(JB):          </th> <td>3.53e-119</td>\n",
                            "</tr>\n",
                            "<tr>\n",
                            "  <th>Kurtosis:</th>      <td> 5.629</td>  <th>  Cond. No.          </th> <td>    357.</td> \n",
                            "</tr>\n",
                            "</table><br/><br/>Notes:<br/>[1] Standard Errors assume that the covariance matrix of the errors is correctly specified."
                        ],
                        "text/plain": [
                            "<class 'statsmodels.iolib.summary.Summary'>\n",
                            "\"\"\"\n",
                            "                            OLS Regression Results                            \n",
                            "==============================================================================\n",
                            "Dep. Variable:                charges   R-squared:                       0.739\n",
                            "Model:                            OLS   Adj. R-squared:                  0.737\n",
                            "Method:                 Least Squares   F-statistic:                     351.2\n",
                            "Date:                Thu, 07 Jul 2022   Prob (F-statistic):          1.85e-283\n",
                            "Time:                        21:19:27   Log-Likelihood:                -10183.\n",
                            "No. Observations:                1003   AIC:                         2.038e+04\n",
                            "Df Residuals:                     994   BIC:                         2.043e+04\n",
                            "Df Model:                           8                                         \n",
                            "Covariance Type:            nonrobust                                         \n",
                            "==============================================================================\n",
                            "                 coef    std err          t      P>|t|      [0.025      0.975]\n",
                            "------------------------------------------------------------------------------\n",
                            "const      -1.319e+04   1288.395    -10.237      0.000   -1.57e+04   -1.07e+04\n",
                            "age          259.2838     14.094     18.396      0.000     231.626     286.942\n",
                            "bmi          334.3301     33.696      9.922      0.000     268.206     400.454\n",
                            "children     560.3848    161.831      3.463      0.001     242.816     877.954\n",
                            "sex_aux      216.9216    397.204      0.546      0.585    -562.532     996.376\n",
                            "smoker_aux  2.404e+04    499.031     48.181      0.000    2.31e+04     2.5e+04\n",
                            "region_sw    169.8471    557.092      0.305      0.761    -923.364    1263.058\n",
                            "region_nw    948.6470    577.717      1.642      0.101    -185.037    2082.331\n",
                            "region_ne   1159.0141    572.395      2.025      0.043      35.773    2282.255\n",
                            "==============================================================================\n",
                            "Omnibus:                      231.741   Durbin-Watson:                   2.155\n",
                            "Prob(Omnibus):                  0.000   Jarque-Bera (JB):              545.491\n",
                            "Skew:                           1.239   Prob(JB):                    3.53e-119\n",
                            "Kurtosis:                       5.629   Cond. No.                         357.\n",
                            "==============================================================================\n",
                            "\n",
                            "Notes:\n",
                            "[1] Standard Errors assume that the covariance matrix of the errors is correctly specified.\n",
                            "\"\"\""
                        ]
                    },
                    "execution_count": 20,
                    "metadata": {},
                    "output_type": "execute_result"
                }
            ],
            "source": [
                "#Another way of doing it:\n",
                "X_interceptor = sm.add_constant(X_train)\n",
                "model2 = sm.OLS(y_train, X_interceptor)\n",
                "results = model2.fit()\n",
                "results.summary()"
            ]
        },
        {
            "cell_type": "code",
            "execution_count": 28,
            "metadata": {},
            "outputs": [
                {
                    "name": "stdout",
                    "output_type": "stream",
                    "text": [
                        "R2: 0.7866857073627449\n",
                        "MAE: 4023.6471495940405\n",
                        "MSE: 30723136.82688005\n",
                        "RMSE: 5542.845553222645\n"
                    ]
                }
            ],
            "source": [
                "y_pred = model.predict(X_test)\n",
                "\n",
                "print('R2:', metrics.r2_score(y_test, y_pred))\n",
                "print('MAE:', metrics.mean_absolute_error(y_test, y_pred))\n",
                "print('MSE:', metrics.mean_squared_error(y_test, y_pred))\n",
                "print('RMSE:', metrics.mean_squared_error(y_test, y_pred,squared=False))\n",
                "\n",
                "#Note to self: Estas son métricas del dataset de prueba \n",
                "#Note to self: El R2 significa que 78% de la variable dependiente está explicada por la varianza de la independiente\n",
                "#Note to self: Cuanto más cercano a 1 es el R square mejor ajusta el modelo, o sea la y estaría siendo 'perfectamente' explicada por las x"
            ]
        },
        {
            "cell_type": "markdown",
            "metadata": {},
            "source": [
                "4.2 Regresión lineal sin constante"
            ]
        },
        {
            "cell_type": "code",
            "execution_count": 30,
            "metadata": {},
            "outputs": [],
            "source": [
                "model3 = LinearRegression(fit_intercept= False) #Initialize\n",
                "model3.fit(X_train, y_train) #Fit\n",
                "y_pred2 = model3.predict(X_test) #Predict"
            ]
        },
        {
            "cell_type": "code",
            "execution_count": 31,
            "metadata": {},
            "outputs": [
                {
                    "name": "stdout",
                    "output_type": "stream",
                    "text": [
                        "R2: 0.7606663419369057\n",
                        "MAE: 4340.556812511617\n",
                        "MSE: 34470642.510833606\n",
                        "RMSE: 5871.170454929204\n"
                    ]
                }
            ],
            "source": [
                "print('R2:', metrics.r2_score(y_test, y_pred2))\n",
                "print('MAE:', metrics.mean_absolute_error(y_test, y_pred2))\n",
                "print('MSE:', metrics.mean_squared_error(y_test, y_pred2))\n",
                "print('RMSE:', metrics.mean_squared_error(y_test, y_pred2,squared=False))"
            ]
        },
        {
            "cell_type": "markdown",
            "metadata": {},
            "source": [
                "4.3 Regresión con término de segundo grado"
            ]
        },
        {
            "cell_type": "code",
            "execution_count": 37,
            "metadata": {},
            "outputs": [],
            "source": [
                "poly_features = PolynomialFeatures(degree = 2) #Parábola\n",
                "\n",
                "X_poly_train = poly_features.fit_transform(X_train) \n",
                "X_poly_test = poly_features.fit_transform(X_test)\n",
                "\n",
                "model4 = model.fit(X_poly_train, y_train)\n",
                "\n",
                "y_pred3 = model4.predict(X_poly_test) #Predict"
            ]
        },
        {
            "cell_type": "code",
            "execution_count": 38,
            "metadata": {},
            "outputs": [
                {
                    "name": "stdout",
                    "output_type": "stream",
                    "text": [
                        "R2: 0.7490362357845053\n",
                        "MAE: 4391.277562892537\n",
                        "MSE: 36145698.30861344\n",
                        "RMSE: 6012.129265793729\n"
                    ]
                }
            ],
            "source": [
                "print('R2:', metrics.r2_score(y_test, y_pred3))\n",
                "print('MAE:', metrics.mean_absolute_error(y_test, y_pred3))\n",
                "print('MSE:', metrics.mean_squared_error(y_test, y_pred3))\n",
                "print('RMSE:', metrics.mean_squared_error(y_test, y_pred3,squared=False))"
            ]
        },
        {
            "cell_type": "markdown",
            "metadata": {},
            "source": [
                "El modelo con mejor performance es la regresión lineal con intercepto\n",
                "<br> *(Pregunta para quien me corrija la task: No es raro que el lineal fittee mejor? No me doy cuenta si hice algo mal)*"
            ]
        },
        {
            "cell_type": "code",
            "execution_count": 41,
            "metadata": {},
            "outputs": [],
            "source": [
                "filename = '../models/final_model.sav'\n",
                "pickle.dump(model, open(filename, 'wb'))"
            ]
        }
    ],
    "metadata": {
        "kernelspec": {
            "display_name": "Python 3.8.13 64-bit ('3.8.13')",
            "language": "python",
            "name": "python3"
        },
        "language_info": {
            "codemirror_mode": {
                "name": "ipython",
                "version": 3
            },
            "file_extension": ".py",
            "mimetype": "text/x-python",
            "name": "python",
            "nbconvert_exporter": "python",
            "pygments_lexer": "ipython3",
            "version": "3.8.13"
        },
        "orig_nbformat": 4,
        "vscode": {
            "interpreter": {
                "hash": "110cc1dee26208153f2972f08a2ad52b6a56238dc66d48e87fb757ef2996db56"
            }
        }
    },
    "nbformat": 4,
    "nbformat_minor": 2
}
